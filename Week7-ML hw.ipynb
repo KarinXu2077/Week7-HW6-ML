{
  "nbformat": 4,
  "nbformat_minor": 0,
  "metadata": {
    "colab": {
      "provenance": []
    },
    "kernelspec": {
      "name": "python3",
      "display_name": "Python 3"
    },
    "language_info": {
      "name": "python"
    }
  },
  "cells": [
    {
      "cell_type": "markdown",
      "source": [
        "1. How do you control for biases?\n",
        "\n",
        "I need to identify and minimize any factors that could affect the outcome of a study. For example, 1) randomization to assign subjects to different groups, ensuring standardization in the data collection process; 2) implementing blinding procedures to prevent knowledge of group assignments from influencing the behavior of participants or researchers."
      ],
      "metadata": {
        "id": "8E6IzD-SllLs"
      }
    },
    {
      "cell_type": "markdown",
      "source": [
        "2. What are confounding variables?\n",
        "\n",
        "Confounding variables are variables that are not accounted for in an experimental design that could influence both the independent and dependent variables, potentially leading to a false association. I need to Identify and control for confounding variables to ensure the validity of the study results."
      ],
      "metadata": {
        "id": "ph8ceXD5mirF"
      }
    },
    {
      "cell_type": "markdown",
      "source": [
        "3. What is A/B testing?\n",
        "\n",
        "A statistical method to compare two or more versions of a variable like web pages, products. The purpose is to determine which one performs better on a specific performance metric. It involves randomly assigning users to different versions and measuring the effect on conversion rates or other key performance indicators."
      ],
      "metadata": {
        "id": "coEGIKbwme5p"
      }
    },
    {
      "cell_type": "markdown",
      "source": [
        "4. When will you use Welch t-test?\n",
        "\n",
        "It is used when comparing the means of two independent samples, especially when the variances are not assumed to be equal or the sample sizes are different. It is a more robust alternative to the Student's t-test when these assumptions are not met, as it adjusts the degrees of freedom used in the test according to the sample sizes and variances."
      ],
      "metadata": {
        "id": "lRHM9922lt_y"
      }
    },
    {
      "cell_type": "code",
      "execution_count": 3,
      "metadata": {
        "colab": {
          "base_uri": "https://localhost:8080/"
        },
        "id": "UU10bw0wkqgf",
        "outputId": "dd91c367-82c6-4843-a26c-528414c0de52"
      },
      "outputs": [
        {
          "output_type": "stream",
          "name": "stdout",
          "text": [
            "t-statistic: 2.946278254943948, p-value: 0.0024555744280253798\n"
          ]
        }
      ],
      "source": [
        "# Problem 5\n",
        "from scipy import stats\n",
        "import numpy as np\n",
        "\n",
        "# Problem 5 data\n",
        "sample_mean = 6.5  # sample mean\n",
        "population_mean = 6  # null hypothesis mean\n",
        "sample_std = 1.2  # sample standard deviation\n",
        "n = 50  # sample size\n",
        "\n",
        "# Calculate the standard error\n",
        "standard_error = sample_std / np.sqrt(n)\n",
        "\n",
        "# Calculate the t-statistic\n",
        "t_statistic = (sample_mean - population_mean) / standard_error\n",
        "\n",
        "# Get the p-value for the one-sided test\n",
        "p_value = stats.t.sf(t_statistic, df=n-1)\n",
        "\n",
        "print(f\"t-statistic: {t_statistic}, p-value: {p_value}\")"
      ]
    },
    {
      "cell_type": "markdown",
      "source": [
        "p-value is less than 0.05, we can reject the null hypothesis that the average call time is 6 minutes. There is sufficient statistical evidence to support the claim that the average time spent on the phone per call is higher than 6 minutes"
      ],
      "metadata": {
        "id": "h1y0QUyDk1cH"
      }
    },
    {
      "cell_type": "code",
      "source": [
        "# Problem 6\n",
        "from scipy import stats\n",
        "\n",
        "# Problem 6 data\n",
        "mean_A = 75  # mean of group A\n",
        "std_dev_A = 8  # standard deviation of group A\n",
        "size_A = 25  # sample size of group A\n",
        "mean_B = 78  # mean of group B\n",
        "std_dev_B = 7  # standard deviation of group B\n",
        "size_B = 30  # sample size of group B\n",
        "\n",
        "# Calculate the t-statistic and p-value using Welch's t-test\n",
        "t_statistic, p_value = stats.ttest_ind_from_stats(\n",
        "    mean1=mean_A, std1=std_dev_A, nobs1=size_A,\n",
        "    mean2=mean_B, std2=std_dev_B, nobs2=size_B,\n",
        "    equal_var=False\n",
        ")\n",
        "\n",
        "print(f\"t-statistic: {t_statistic}, p-value: {p_value}\")"
      ],
      "metadata": {
        "colab": {
          "base_uri": "https://localhost:8080/"
        },
        "id": "FNsfo3-Ek-46",
        "outputId": "b8903dc1-6b26-4914-aecc-a550b70a6dd3"
      },
      "execution_count": 4,
      "outputs": [
        {
          "output_type": "stream",
          "name": "stdout",
          "text": [
            "t-statistic: -1.4650132801342768, p-value: 0.14941450596390296\n"
          ]
        }
      ]
    },
    {
      "cell_type": "markdown",
      "source": [
        "p-value>0.05, we do not reject the null hypothesis. Therefore, there is no significant difference in the mean scores between the two groups of students"
      ],
      "metadata": {
        "id": "z3P4a0YolYEx"
      }
    }
  ]
}